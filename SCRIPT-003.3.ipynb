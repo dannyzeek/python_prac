{
 "cells": [
  {
   "cell_type": "markdown",
   "metadata": {},
   "source": [
    "# OBJECT LIFETIME\n",
    "\n",
    "## __new__\n",
    "\n",
    "### Inch sample"
   ]
  },
  {
   "cell_type": "code",
   "execution_count": 1,
   "metadata": {},
   "outputs": [
    {
     "name": "stdout",
     "output_type": "stream",
     "text": [
      "12.0\n"
     ]
    }
   ],
   "source": [
    "class Inch(float):    \n",
    "    def __init__(self,arg = 0.0):\n",
    "        float.__init__(arg*0.0254)\n",
    "\n",
    "x = Inch(12)\n",
    "print(x)\n"
   ]
  },
  {
   "cell_type": "markdown",
   "metadata": {},
   "source": [
    "* Discuss with trainer why sample does`nt work\n"
   ]
  },
  {
   "cell_type": "markdown",
   "metadata": {},
   "source": [
    "### Correct Inch Sample"
   ]
  },
  {
   "cell_type": "markdown",
   "metadata": {},
   "source": [
    "class Inch(float):\n",
    "    def __new__(cls,arg = 0.0):\n",
    "        return float.__new__(cls,arg*0.0254)\n",
    "    \n",
    "    #def __init__(self,arg = 0.0):\n",
    "    #    float.__init__(arg*0.0254)\n",
    "\n",
    "x = Inch(12)\n",
    "print(x)\n"
   ]
  },
  {
   "cell_type": "markdown",
   "metadata": {},
   "source": [
    "* Discuss with trainer, why this sample work fine"
   ]
  },
  {
   "cell_type": "markdown",
   "metadata": {},
   "source": [
    "### Singleton pattern Sample"
   ]
  },
  {
   "cell_type": "code",
   "execution_count": 5,
   "metadata": {},
   "outputs": [
    {
     "name": "stdout",
     "output_type": "stream",
     "text": [
      "Singleton init\n",
      "11350224\n",
      "11350224\n"
     ]
    }
   ],
   "source": [
    "class Singleton:\n",
    "    __instance = None\n",
    "    __initialize = False\n",
    "    def __new__(cls):\n",
    "        if Singleton.__instance is None:\n",
    "            Singleton.__instance = object.__new__(cls)\n",
    "        return Singleton.__instance\n",
    "    def __init__(self):\n",
    "        if not Singleton.__initialize:\n",
    "            print(\"Singleton init\")\n",
    "            Singleton.__initialize = True\n",
    "\n",
    "x = Singleton()\n",
    "y = Singleton()\n",
    "\n",
    "print(id(x))\n",
    "print(id(y))\n"
   ]
  },
  {
   "cell_type": "markdown",
   "metadata": {},
   "source": [
    "## Attribute and method access\n",
    "\n",
    "### Attribute access"
   ]
  },
  {
   "cell_type": "code",
   "execution_count": 1,
   "metadata": {},
   "outputs": [
    {
     "name": "stdout",
     "output_type": "stream",
     "text": [
      "{'tag': 2, 'field': 'test'}\n",
      "2\n",
      "test\n",
      "test\n",
      "2\n"
     ]
    }
   ],
   "source": [
    "class AdvancedDictionary:\n",
    "    def __init__(self):\n",
    "        object.__setattr__(self,\"_AdvancedDictionary__dict\",{})\n",
    "    def __getattr__(self,attr):\n",
    "        return object.__getattribute__(self,\"_AdvancedDictionary__dict\")[attr]\n",
    "    def __setattr__(self,attr,val):\n",
    "        #d = object.__getattribute__(self,\"__dict\")\n",
    "        d = self.__dict\n",
    "        d[attr] = val\n",
    "    def __str__(self):\n",
    "        d = self.__dict\n",
    "        return str(d)\n",
    "    def __getitem__(self,key):\n",
    "        return self.__dict[key]\n",
    "#--------------------------------\n",
    "\n",
    "d = AdvancedDictionary()\n",
    "\n",
    "d.tag = 2\n",
    "d.field = \"test\"\n",
    "print(d)\n",
    "print(d.tag)\n",
    "print(d.field)\n",
    "print(d[\"field\"])\n",
    "print(d[\"tag\"])"
   ]
  },
  {
   "cell_type": "markdown",
   "metadata": {},
   "source": [
    "### Method access"
   ]
  },
  {
   "cell_type": "code",
   "execution_count": 3,
   "metadata": {},
   "outputs": [
    {
     "name": "stdout",
     "output_type": "stream",
     "text": [
      "this is bar\n",
      "this is foo\n",
      "handle unknown method callIt\n",
      "handle unknown method makeIt\n",
      "it had arguments (2, 3, 4)\n"
     ]
    }
   ],
   "source": [
    "class Example:\n",
    "    def foo(self):\n",
    "        print('this is foo')\n",
    "    def bar(self):\n",
    "        print('this is bar')\n",
    "    def __getattr__(self,name):\n",
    "        def handle(*args):\n",
    "            print(f'handle unknown method {name}')\n",
    "            if args:\n",
    "                print(f'it had arguments {args}')\n",
    "        return handle\n",
    "            \n",
    "example = Example()\n",
    "example.bar()\n",
    "example.foo()\n",
    "example.callIt()\n",
    "example.makeIt(2,3,4)"
   ]
  },
  {
   "cell_type": "markdown",
   "metadata": {},
   "source": [
    "### __del__ sample"
   ]
  },
  {
   "cell_type": "code",
   "execution_count": 4,
   "metadata": {},
   "outputs": [
    {
     "name": "stdout",
     "output_type": "stream",
     "text": [
      "ctor called\n",
      "call MakeIt\n",
      "dtor called\n",
      "main finished\n"
     ]
    }
   ],
   "source": [
    "class Foo:\n",
    "    def __init__(self):\n",
    "        print('ctor called')\n",
    "    def __del__(self):\n",
    "        print('dtor called')\n",
    "def MakeIt():\n",
    "    x = Foo()\n",
    "    print('call MakeIt')\n",
    "\n",
    "MakeIt()\n",
    "print('main finished')"
   ]
  },
  {
   "cell_type": "code",
   "execution_count": null,
   "metadata": {},
   "outputs": [],
   "source": []
  }
 ],
 "metadata": {
  "kernelspec": {
   "display_name": "Python 3",
   "language": "python",
   "name": "python3"
  },
  "language_info": {
   "codemirror_mode": {
    "name": "ipython",
    "version": 3
   },
   "file_extension": ".py",
   "mimetype": "text/x-python",
   "name": "python",
   "nbconvert_exporter": "python",
   "pygments_lexer": "ipython3",
   "version": "3.7.3"
  }
 },
 "nbformat": 4,
 "nbformat_minor": 2
}

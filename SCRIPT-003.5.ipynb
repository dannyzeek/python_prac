{
 "cells": [
  {
   "cell_type": "markdown",
   "metadata": {},
   "source": [
    "# WORK WITH DATA\n",
    "\n",
    "## Comparison magic methods\n",
    "\n",
    "### Comparison magic methods sample"
   ]
  },
  {
   "cell_type": "code",
   "execution_count": 15,
   "metadata": {},
   "outputs": [
    {
     "name": "stdout",
     "output_type": "stream",
     "text": [
      "call __eq__\n",
      "a == b\n",
      "call __ne__\n",
      "call __eq__\n",
      "call __gt__\n",
      "call __lt__\n",
      "call __gt__\n",
      "a < c\n",
      "call __ge__\n",
      "a >= b\n",
      "call __le__\n",
      "call __gt__\n",
      "a <= b\n",
      "call __ge__\n",
      "call __le__\n",
      "call __gt__\n",
      "a <= c\n"
     ]
    }
   ],
   "source": [
    "class Point:\n",
    "    def __init__(self,x,y):\n",
    "        self.__x = x\n",
    "        self.__y = y\n",
    "    def __eq__(self,second):\n",
    "        print('call __eq__')\n",
    "        return self.__x == second.__x and self.__y == second.__y\n",
    "    def __ne__(self,second):\n",
    "        print('call __ne__')\n",
    "        return not self.__eq__(second)\n",
    "    def __gt__(self,second):\n",
    "        print('call __gt__')\n",
    "        return self.__x > second.__x and self.__y > second.__y\n",
    "    def __ge__(self,second):\n",
    "        print('call __ge__')\n",
    "        return self.__x >= second.__x and self.__y >= second.__y\n",
    "    def __lt__(self,second):\n",
    "        print('call __lt__')\n",
    "        return not self.__gt__(second)\n",
    "    def __le__(self,second):\n",
    "        print('call __le__')\n",
    "        return (not self.__gt__(second)) or (self.__x == second.__x and self.__y == second.__y)\n",
    "    \n",
    "a = Point(2,3)\n",
    "b = Point(2,3)\n",
    "c = Point(3,4)\n",
    "if a == b: print('a == b')\n",
    "if a != b: print('a != b')\n",
    "if a > c: print('a > c')\n",
    "if a < c: print('a < c')\n",
    "if a >= b: print('a >= b')\n",
    "if a <= b: print('a <= b')\n",
    "if a >= c: print('a >= c')\n",
    "if a <= c: print('a <= c')\n"
   ]
  },
  {
   "cell_type": "markdown",
   "metadata": {},
   "source": [
    "## Add magic method sample"
   ]
  },
  {
   "cell_type": "code",
   "execution_count": 16,
   "metadata": {},
   "outputs": [
    {
     "ename": "TypeError",
     "evalue": "unsupported operand type(s) for +: 'int' and 'TestResult'",
     "output_type": "error",
     "traceback": [
      "\u001b[1;31m---------------------------------------------------------------------------\u001b[0m",
      "\u001b[1;31mTypeError\u001b[0m                                 Traceback (most recent call last)",
      "\u001b[1;32m<ipython-input-16-a3fd7ef6cd7f>\u001b[0m in \u001b[0;36m<module>\u001b[1;34m\u001b[0m\n\u001b[0;32m     17\u001b[0m \u001b[1;31m#total = t1 + t2  + t3 #   t3.__add__(t1.__add__(t2))\u001b[0m\u001b[1;33m\u001b[0m\u001b[1;33m\u001b[0m\u001b[1;33m\u001b[0m\u001b[0m\n\u001b[0;32m     18\u001b[0m \u001b[1;33m\u001b[0m\u001b[0m\n\u001b[1;32m---> 19\u001b[1;33m \u001b[0mtotal\u001b[0m \u001b[1;33m=\u001b[0m \u001b[0msum\u001b[0m\u001b[1;33m(\u001b[0m\u001b[0mtestsResult\u001b[0m\u001b[1;33m)\u001b[0m \u001b[1;31m# 0 + t1 + t2 + t3 +  ....\u001b[0m\u001b[1;33m\u001b[0m\u001b[1;33m\u001b[0m\u001b[0m\n\u001b[0m\u001b[0;32m     20\u001b[0m \u001b[1;33m\u001b[0m\u001b[0m\n\u001b[0;32m     21\u001b[0m \u001b[1;31m# instance + other\u001b[0m\u001b[1;33m\u001b[0m\u001b[1;33m\u001b[0m\u001b[1;33m\u001b[0m\u001b[0m\n",
      "\u001b[1;31mTypeError\u001b[0m: unsupported operand type(s) for +: 'int' and 'TestResult'"
     ]
    }
   ],
   "source": [
    "class TestResult:\n",
    "    def __init__(self,errors,warnings):\n",
    "        self.Errors = errors\n",
    "        self.Warnings = warnings\n",
    "    def __add__(self,rightOp):\n",
    "        return TestResult(self.Errors + rightOp.Errors, self.Warnings + rightOp.Warnings)\n",
    "\n",
    "\n",
    "t1 = TestResult(20,3)\n",
    "\n",
    "t2 = TestResult(10,5)\n",
    "\n",
    "t3 = TestResult(1,1)\n",
    "\n",
    "testsResult = [t1,t2,t3]\n",
    "\n",
    "#total = t1 + t2  + t3 #   t3.__add__(t1.__add__(t2))\n",
    "\n",
    "total = sum(testsResult) # 0 + t1 + t2 + t3 +  ....\n",
    "\n",
    "# instance + other\n",
    "\n",
    "print(total.Errors)\n",
    "print(total.Warnings)\n"
   ]
  },
  {
   "cell_type": "markdown",
   "metadata": {},
   "source": [
    "* Please discuss with trainer why your get exception\n",
    "* Please add into TestResult class following code:\n",
    "```\n",
    "def __radd__(self,leftOp):\n",
    "\t\tif type(leftOp) != TestResult:\n",
    "\t\t\treturn self\n",
    "\t\telse:\n",
    "\t\t\treturn self.__add__(leftOp)\n",
    "```\n",
    "* Please run again"
   ]
  },
  {
   "cell_type": "markdown",
   "metadata": {},
   "source": [
    "### Index magic method sample"
   ]
  },
  {
   "cell_type": "code",
   "execution_count": 19,
   "metadata": {},
   "outputs": [
    {
     "name": "stdout",
     "output_type": "stream",
     "text": [
      "call __index__\n",
      "www.ru\n",
      "call __index__\n",
      "myworkstation\n"
     ]
    }
   ],
   "source": [
    "class IP:\n",
    "    def __init__(self,ip):\n",
    "        self.__ip  = ip\n",
    "\n",
    "    def __index__(self):\n",
    "        print('call __index__')\n",
    "        i = self.__ip.split('.')[-1] #['192','168','1','2'] [-1] => '2'\n",
    "        return int(i) - 1\n",
    "\n",
    "cache = [\"www.ru\",\"myworkstation\",\"testserver\"]\n",
    "\n",
    "client1 = IP(\"192.168.1.1\")\n",
    "\n",
    "print(cache[client1])\n",
    "\n",
    "client2 = IP(\"192.168.1.2\")\n",
    "\n",
    "print(cache[client2])\n"
   ]
  },
  {
   "cell_type": "markdown",
   "metadata": {},
   "source": [
    "## Representing class and copy objects\n",
    "\n",
    "### Convert object to string sample"
   ]
  },
  {
   "cell_type": "code",
   "execution_count": 28,
   "metadata": {},
   "outputs": [
    {
     "name": "stdout",
     "output_type": "stream",
     "text": [
      "a = 1, b = 2\n",
      "Foo(1,2)\n",
      "a = 1, b = 2\n"
     ]
    }
   ],
   "source": [
    "class Foo:\n",
    "    def __init__(self,a,b):\n",
    "        self.a = a\n",
    "        self.b = b\n",
    "    def __str__(self):\n",
    "         return f'a = {self.a}, b = {self.b}'\n",
    "    def __repr__(self):\n",
    "        return f'Foo({self.a},{self.b})'\n",
    "        \n",
    "x = Foo(1,2)\n",
    "print(x)\n",
    "print(repr(x))\n",
    "y = eval(repr(x))\n",
    "print(y)\n"
   ]
  },
  {
   "cell_type": "markdown",
   "metadata": {},
   "source": [
    "### Format sample"
   ]
  },
  {
   "cell_type": "code",
   "execution_count": 34,
   "metadata": {},
   "outputs": [
    {
     "name": "stdout",
     "output_type": "stream",
     "text": [
      "x = <<<10@>>>\n"
     ]
    }
   ],
   "source": [
    "class Foo:\n",
    "    def __init__(self,a,b):\n",
    "        self.a = a\n",
    "        self.b = b\n",
    "    def __format__(self,spec):\n",
    "        return \"<<<\" + spec + \">>>\"\n",
    "x = Foo(2,3)\n",
    "\n",
    "print(f'x = {x:10@}')"
   ]
  },
  {
   "cell_type": "markdown",
   "metadata": {},
   "source": [
    "* Discuss resulf with your trainer"
   ]
  },
  {
   "cell_type": "markdown",
   "metadata": {},
   "source": [
    "### Non zero sample"
   ]
  },
  {
   "cell_type": "code",
   "execution_count": 51,
   "metadata": {},
   "outputs": [
    {
     "name": "stdout",
     "output_type": "stream",
     "text": [
      "call __bool__\n",
      "True\n",
      "call __bool__\n",
      "False\n",
      "call __bool__\n",
      "true\n"
     ]
    }
   ],
   "source": [
    "class Foo:\n",
    "    def __init__(self,a,b):\n",
    "        self.a = a\n",
    "        self.b = b\n",
    "    def __bool__(self):\n",
    "        print('call __bool__')\n",
    "        return self.a + self.b > 10\n",
    "    \n",
    "x = Foo(10,2)\n",
    "y = Foo(1,0)\n",
    "\n",
    "print(bool(x))\n",
    "print(bool(y))\n",
    "if x : print('true')"
   ]
  },
  {
   "attachments": {},
   "cell_type": "markdown",
   "metadata": {},
   "source": [
    "## Exercise 7\n",
    "\n",
    "* Design a matrix computing class\n",
    "* Implement operations of addition of matrices and multiplication of all elements by some scalar value. Use the magic methods ```__ add__()``` and ```__ mul__()``` for this.\n",
    "* Use ```__bool__()``` to determine if the matrix contains non zero values in all cells\n",
    "* Use the ```__ add__()``` operation to add some integer value to all matrix elements\n",
    "* Ensure that the object is displayed correctly using the```__str__()``` and ```__repr__()``` methods\n",
    "* Provide the ability to swap operands in the operations of addition and multiplication"
   ]
  },
  {
   "cell_type": "code",
   "execution_count": null,
   "metadata": {},
   "outputs": [],
   "source": [
    "# type your solution here. You can remove this comment"
   ]
  }
 ],
 "metadata": {
  "kernelspec": {
   "display_name": "Python 3",
   "language": "python",
   "name": "python3"
  },
  "language_info": {
   "codemirror_mode": {
    "name": "ipython",
    "version": 3
   },
   "file_extension": ".py",
   "mimetype": "text/x-python",
   "name": "python",
   "nbconvert_exporter": "python",
   "pygments_lexer": "ipython3",
   "version": "3.7.3"
  }
 },
 "nbformat": 4,
 "nbformat_minor": 2
}

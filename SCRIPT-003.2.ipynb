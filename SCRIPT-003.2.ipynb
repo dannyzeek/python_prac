{
 "cells": [
  {
   "cell_type": "markdown",
   "metadata": {},
   "source": [
    "# Function as object\n",
    "\n",
    "## Closure"
   ]
  },
  {
   "cell_type": "markdown",
   "metadata": {},
   "source": [
    "### Return function as object sample\n"
   ]
  },
  {
   "cell_type": "code",
   "execution_count": 18,
   "metadata": {},
   "outputs": [
    {
     "name": "stdout",
     "output_type": "stream",
     "text": [
      "<function CreateFunction.<locals>.Internal at 0x0683D468>\n",
      "7\n"
     ]
    }
   ],
   "source": [
    "def CreateFunction(a):\n",
    "    m = 2\n",
    "    def Internal(k):\n",
    "        return k + a + m\n",
    "    return Internal\n",
    "print(CreateFunction(2))\n",
    "print(CreateFunction(2)(3))"
   ]
  },
  {
   "cell_type": "markdown",
   "metadata": {},
   "source": [
    "* Please explain program result"
   ]
  },
  {
   "cell_type": "markdown",
   "metadata": {},
   "source": [
    "### Closure sample"
   ]
  },
  {
   "cell_type": "code",
   "execution_count": 17,
   "metadata": {},
   "outputs": [
    {
     "name": "stdout",
     "output_type": "stream",
     "text": [
      "[1, 2, 3, 4, 555, 999]\n"
     ]
    }
   ],
   "source": [
    "def FunctionFactory(l):\n",
    "    l.append(555)\n",
    "    def Internal():\n",
    "        print(l)\n",
    "    return Internal\n",
    "x = [1,2,3,4]\n",
    "y = FunctionFactory(x)\n",
    "x.append(999)\n",
    "y()"
   ]
  },
  {
   "cell_type": "markdown",
   "metadata": {},
   "source": [
    "* Please explain program result"
   ]
  },
  {
   "cell_type": "markdown",
   "metadata": {},
   "source": [
    "## Decorator\n",
    "\n",
    "### Decorator sample\n",
    "\n",
    "You must enclose the returned string in H1 html tags:\n",
    "\n",
    "1. Sipmple implementation"
   ]
  },
  {
   "cell_type": "code",
   "execution_count": 13,
   "metadata": {},
   "outputs": [
    {
     "name": "stdout",
     "output_type": "stream",
     "text": [
      "THIS IS TEST\n",
      "<h1>THIS IS TEST</h1>\n"
     ]
    }
   ],
   "source": [
    "def Producer():\n",
    "    return \"THIS IS TEST\"\n",
    "\n",
    "def HtmlH1(fn):\n",
    "    def wrapped(): \n",
    "        return \"<h1>\"+fn()+\"</h1>\"\n",
    "    return wrapped\n",
    "\n",
    "print(Producer())\n",
    "\n",
    "Producer = HtmlH1(Producer)\n",
    "\n",
    "print(Producer())\n",
    "\n"
   ]
  },
  {
   "cell_type": "markdown",
   "metadata": {},
   "source": [
    "* Please explain, how does it work?\n",
    "\n",
    "\n",
    "2. Implementation with python`s decorator"
   ]
  },
  {
   "cell_type": "code",
   "execution_count": 14,
   "metadata": {},
   "outputs": [
    {
     "name": "stdout",
     "output_type": "stream",
     "text": [
      "<h1>THIS IS TEST</h1>\n"
     ]
    }
   ],
   "source": [
    "def HtmlH1(fn):\n",
    "    def wrapped(): \n",
    "        return \"<h1>\"+fn()+\"</h1>\"\n",
    "    return wrapped\n",
    "\n",
    "@HtmlH1\n",
    "def Producer():\n",
    "    return \"THIS IS TEST\"\n",
    "\n",
    "print(Producer())\n"
   ]
  },
  {
   "cell_type": "markdown",
   "metadata": {},
   "source": [
    "* Compare with previous solution\n",
    "\n",
    "\n",
    "3. Now we need use under decorator function with parameters"
   ]
  },
  {
   "cell_type": "code",
   "execution_count": 15,
   "metadata": {},
   "outputs": [
    {
     "name": "stdout",
     "output_type": "stream",
     "text": [
      "<h1>THIS TEST WITH PARAM</h1>\n"
     ]
    }
   ],
   "source": [
    "def HtmlH1(fn):\n",
    "    def wrapped(text): \n",
    "        return \"<h1>\"+fn(text)+\"</h1>\"\n",
    "    return wrapped\n",
    "\n",
    "@HtmlH1\n",
    "def Producer(text):\n",
    "    return text\n",
    "\n",
    "print(Producer(\"THIS TEST WITH PARAM\"))"
   ]
  },
  {
   "cell_type": "markdown",
   "metadata": {},
   "source": [
    "* Compare with previous solution\n",
    "\n",
    "\n",
    "4. It is necessary to pass a tag in the decorator parameter"
   ]
  },
  {
   "cell_type": "code",
   "execution_count": 16,
   "metadata": {},
   "outputs": [
    {
     "name": "stdout",
     "output_type": "stream",
     "text": [
      "<b>THIS TEST WITH PARAM FOR DECORATOR</b>\n"
     ]
    }
   ],
   "source": [
    "def Html(tag):\n",
    "    def decorator(fn):\n",
    "        def wrapped(text): \n",
    "            return \"<\"+ tag +\">\"+fn(text)+\"</\" + tag + \">\"\n",
    "        return wrapped\n",
    "    return decorator\n",
    "    \n",
    "@Html(\"b\")\n",
    "def Producer(text):\n",
    "    return text\n",
    "\n",
    "print(Producer(\"THIS TEST WITH PARAM FOR DECORATOR\"))\n"
   ]
  },
  {
   "cell_type": "markdown",
   "metadata": {},
   "source": [
    "* Compare with previous solution\n",
    "\n",
    "5. You can use more than one decorator"
   ]
  },
  {
   "cell_type": "code",
   "execution_count": 17,
   "metadata": {},
   "outputs": [
    {
     "name": "stdout",
     "output_type": "stream",
     "text": [
      "<h1><b>THIS TEST WITH FEW DECORATORS</b></h1>\n"
     ]
    }
   ],
   "source": [
    "def Html(tag):\n",
    "    def decorator(fn):\n",
    "        def wrapped(text): \n",
    "            return \"<\"+ tag +\">\"+fn(text)+\"</\" + tag + \">\"\n",
    "        return wrapped\n",
    "    return decorator\n",
    "\n",
    "def HtmlH1(fn):\n",
    "    def wrapped(text): \n",
    "        return \"<h1>\"+fn(text)+\"</h1>\"\n",
    "    return wrapped   \n",
    "\n",
    "@HtmlH1    \n",
    "@Html(\"b\")\n",
    "def Producer(text):\n",
    "    return text\n",
    "\n",
    "print(Producer(\"THIS TEST WITH FEW DECORATORS\"))\n"
   ]
  },
  {
   "cell_type": "markdown",
   "metadata": {},
   "source": [
    "* Compare with previous solution"
   ]
  },
  {
   "cell_type": "markdown",
   "metadata": {},
   "source": [
    "## Functor\n",
    "\n",
    "### Functor sample"
   ]
  },
  {
   "cell_type": "code",
   "execution_count": 18,
   "metadata": {},
   "outputs": [
    {
     "name": "stdout",
     "output_type": "stream",
     "text": [
      "6\n",
      "10\n"
     ]
    }
   ],
   "source": [
    "def Make(x,y):\n",
    "    return x + y\n",
    "\n",
    "class Functor:\n",
    "    def __init__(self,state):\n",
    "        self.__state = state\n",
    "    def __call__(self,arg):\n",
    "        return Make(self.__state,arg)\n",
    "x = Functor(2)\n",
    "print(x(4))\n",
    "y = Functor(4)\n",
    "print(y(6))\n"
   ]
  },
  {
   "cell_type": "markdown",
   "metadata": {},
   "source": [
    "* Please explain how does it work"
   ]
  },
  {
   "cell_type": "markdown",
   "metadata": {},
   "source": [
    "## Exercise 4\n",
    "\n",
    "Design a function that sums the values of all parameters that satisfy the predicate. Implemenet a predicate that checks wherther the current list item is divided by another number without a remainder. This number must be passed ti the predicate through its constructor.\n",
    "Design a decorator that wrap in H1 tags a number greather than specified in the decorator parameter.\n",
    "\n",
    "For example. You code:\n",
    "```\n",
    "x = [1,2,3,4,5,6,7,8,9,10,11,12\n",
    "\n",
    "@Attention(75)\n",
    "def sumP(predicate,*args):\n",
    "    pass # you code here\n",
    "\n",
    "p1 = Functor(2)\n",
    "p2 = Functor(3)\n",
    "\n",
    "print(sumP(p1,*x))\n",
    "print(sumP(p2,*x))\n",
    "```\n",
    "must be printed ```<h1>77</h1>``` and ```<b>75</b>```"
   ]
  },
  {
   "cell_type": "code",
   "execution_count": 35,
   "metadata": {},
   "outputs": [],
   "source": [
    "# type your solution here. You can remove this comment"
   ]
  }
 ],
 "metadata": {
  "kernelspec": {
   "display_name": "Python 3",
   "language": "python",
   "name": "python3"
  },
  "language_info": {
   "codemirror_mode": {
    "name": "ipython",
    "version": 3
   },
   "file_extension": ".py",
   "mimetype": "text/x-python",
   "name": "python",
   "nbconvert_exporter": "python",
   "pygments_lexer": "ipython3",
   "version": "3.7.3"
  }
 },
 "nbformat": 4,
 "nbformat_minor": 2
}

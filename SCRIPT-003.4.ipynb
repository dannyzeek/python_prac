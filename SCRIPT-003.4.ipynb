{
 "cells": [
  {
   "cell_type": "markdown",
   "metadata": {},
   "source": [
    "# Work With Resourse\n",
    "\n",
    "## File\n",
    "\n",
    "### File sample"
   ]
  },
  {
   "cell_type": "code",
   "execution_count": 13,
   "metadata": {},
   "outputs": [
    {
     "name": "stdout",
     "output_type": "stream",
     "text": [
      "<class 'str'>\n",
      "this is\n",
      " test\n",
      "this is\n",
      "\n",
      " test\n",
      "this is\n",
      "\n",
      " test\n"
     ]
    }
   ],
   "source": [
    "f = open('test.txt','w')\n",
    "f.write('this is\\n test')\n",
    "f.close()\n",
    "x = open('test.txt','r')\n",
    "s = x.read()\n",
    "print(type(s))\n",
    "print(s)\n",
    "x.close()\n",
    "q = open('test.txt','r')\n",
    "print(q.readline())\n",
    "print(q.readline())\n",
    "q.close()\n",
    "\n",
    "with open('test.txt') as d:\n",
    "    for c in d:\n",
    "        print(c)"
   ]
  },
  {
   "cell_type": "markdown",
   "metadata": {},
   "source": [
    "* Please explain, why in this program after `with` operator  file wasn`t close"
   ]
  },
  {
   "cell_type": "markdown",
   "metadata": {},
   "source": [
    "## Context Manager Sample\n",
    "\n",
    "### Case 1"
   ]
  },
  {
   "cell_type": "code",
   "execution_count": 3,
   "metadata": {},
   "outputs": [
    {
     "name": "stdout",
     "output_type": "stream",
     "text": [
      "CopyFile ctor called\n",
      "read from first file\n",
      "write to second file\n"
     ]
    }
   ],
   "source": [
    "class CopyFile(object):\n",
    "\tdef __init__(self,sourceName,destName):\n",
    "\t\tprint('CopyFile ctor called')\n",
    "\t\tself.__sourceName = sourceName  \n",
    "\t\tself.__destName = destName \n",
    "\t\tself.__source = None\n",
    "\t\tself.__dest = None\n",
    "\t\t\n",
    "\tdef __enter__(self):\n",
    "\t\tself.__source = open(self.__sourceName,\"r\")\n",
    "\t\tself.__dest = open(self.__destName,\"w\")\n",
    "\t\treturn self # our class implement read and write method\n",
    "\t\n",
    "\tdef read(self):\n",
    "\t\treturn self.__source.read()\n",
    "\t\n",
    "\tdef write(self,buf):\n",
    "\t\tself.__dest.write(buf)\n",
    "\t\n",
    "\tdef __exit__(self,type,value,trace):\n",
    "\t\tself.__source.close()\n",
    "\t\tself.__dest.close()\n",
    "\t\t\n",
    "#start here\n",
    "\n",
    "with CopyFile(\"test.txt\",\"test2.txt\") as f:\n",
    "\tprint('read from first file')\n",
    "\tbuf = f.read()\n",
    "\tprint('write to second file')\n",
    "\tf.write(buf)\n",
    "\t\n"
   ]
  },
  {
   "cell_type": "markdown",
   "metadata": {},
   "source": [
    "### Case 2"
   ]
  },
  {
   "cell_type": "code",
   "execution_count": 7,
   "metadata": {},
   "outputs": [
    {
     "name": "stdout",
     "output_type": "stream",
     "text": [
      "CopyFile ctor called\n",
      "call enter for context\n",
      "read from first file\n",
      "write to second file\n",
      "call exit for context\n"
     ]
    }
   ],
   "source": [
    "class CopyProcessor(object):\n",
    "    def __init__(self,source,dest):\n",
    "        self.__source = source  \n",
    "        self.__dest = dest\n",
    "    def read(self):\n",
    "        return self.__source.read()\n",
    "    \n",
    "    def write(self,buf):\n",
    "        self.__dest.write(buf)\n",
    "        \n",
    "class CopyFile(object):\n",
    "    def __init__(self,sourceName,destName):\n",
    "        print ('CopyFile ctor called')\n",
    "        self.__sourceName = sourceName  \n",
    "        self.__destName = destName \n",
    "        self.__source = None\n",
    "        self.__dest = None\n",
    "        \n",
    "    def __enter__(self):\n",
    "        print('call enter for context')\n",
    "        self.__source = open(self.__sourceName,\"r\")\n",
    "        self.__dest = open(self.__destName,\"w\")\n",
    "        return CopyProcessor(self.__source,self.__dest)\n",
    "        \n",
    "    def __exit__(self,type,value,trace):\n",
    "        print('call exit for context')\n",
    "        self.__source.close()\n",
    "        self.__dest.close()\n",
    "        \n",
    "#start here\n",
    "x = CopyFile(\"test.txt\",\"test2.txt\")\n",
    "with x as f:\n",
    "    print('read from first file')\n",
    "    buf = f.read()\n",
    "    print('write to second file')\n",
    "    f.write(buf)\n"
   ]
  },
  {
   "cell_type": "code",
   "execution_count": null,
   "metadata": {},
   "outputs": [],
   "source": []
  }
 ],
 "metadata": {
  "kernelspec": {
   "display_name": "Python 3",
   "language": "python",
   "name": "python3"
  },
  "language_info": {
   "codemirror_mode": {
    "name": "ipython",
    "version": 3
   },
   "file_extension": ".py",
   "mimetype": "text/x-python",
   "name": "python",
   "nbconvert_exporter": "python",
   "pygments_lexer": "ipython3",
   "version": "3.7.3"
  }
 },
 "nbformat": 4,
 "nbformat_minor": 2
}

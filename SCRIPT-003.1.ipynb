{
 "cells": [
  {
   "cell_type": "markdown",
   "metadata": {},
   "source": [
    "# Best Practice of Python Development"
   ]
  },
  {
   "cell_type": "markdown",
   "metadata": {},
   "source": [
    "## __slots__\n",
    "\n",
    "First Sample"
   ]
  },
  {
   "cell_type": "code",
   "execution_count": 1,
   "metadata": {},
   "outputs": [
    {
     "name": "stdout",
     "output_type": "stream",
     "text": [
      "x.field1 = 2\n",
      "y.field1 = 3\n",
      "x.field2 = 4\n"
     ]
    },
    {
     "ename": "AttributeError",
     "evalue": "'Foo' object has no attribute 'field2'",
     "output_type": "error",
     "traceback": [
      "\u001b[1;31m---------------------------------------------------------------------------\u001b[0m",
      "\u001b[1;31mAttributeError\u001b[0m                            Traceback (most recent call last)",
      "\u001b[1;32m<ipython-input-1-e4f923803d01>\u001b[0m in \u001b[0;36m<module>\u001b[1;34m\u001b[0m\n\u001b[0;32m      9\u001b[0m \u001b[0mx\u001b[0m\u001b[1;33m.\u001b[0m\u001b[0mfield2\u001b[0m \u001b[1;33m=\u001b[0m \u001b[1;36m4\u001b[0m\u001b[1;33m\u001b[0m\u001b[1;33m\u001b[0m\u001b[0m\n\u001b[0;32m     10\u001b[0m \u001b[0mprint\u001b[0m\u001b[1;33m(\u001b[0m\u001b[1;34mf\"x.field2 = {x.field2}\"\u001b[0m\u001b[1;33m)\u001b[0m\u001b[1;33m\u001b[0m\u001b[1;33m\u001b[0m\u001b[0m\n\u001b[1;32m---> 11\u001b[1;33m \u001b[0mprint\u001b[0m\u001b[1;33m(\u001b[0m\u001b[1;34mf\"y.field2 = {y.field2}\"\u001b[0m\u001b[1;33m)\u001b[0m\u001b[1;33m\u001b[0m\u001b[1;33m\u001b[0m\u001b[0m\n\u001b[0m\u001b[0;32m     12\u001b[0m \u001b[1;33m\u001b[0m\u001b[0m\n",
      "\u001b[1;31mAttributeError\u001b[0m: 'Foo' object has no attribute 'field2'"
     ]
    }
   ],
   "source": [
    "class Foo:\n",
    "    def __init__(self,a):\n",
    "        self.field1 = a\n",
    "\n",
    "x = Foo(2)\n",
    "y = Foo(3)\n",
    "print(f\"x.field1 = {x.field1}\")\n",
    "print(f\"y.field1 = {y.field1}\")\n",
    "x.field2 = 4\n",
    "print(f\"x.field2 = {x.field2}\")\n",
    "print(f\"y.field2 = {y.field2}\")\n",
    "    "
   ]
  },
  {
   "cell_type": "markdown",
   "metadata": {},
   "source": [
    "* Please explain, why program is crashed with *'Foo' object has no attribute 'field2'*\n",
    "\n",
    "Second Sample"
   ]
  },
  {
   "cell_type": "code",
   "execution_count": 3,
   "metadata": {},
   "outputs": [
    {
     "name": "stdout",
     "output_type": "stream",
     "text": [
      "x.field1 = 2\n",
      "y.field1 = 3\n"
     ]
    },
    {
     "ename": "AttributeError",
     "evalue": "'Foo' object has no attribute 'field2'",
     "output_type": "error",
     "traceback": [
      "\u001b[1;31m---------------------------------------------------------------------------\u001b[0m",
      "\u001b[1;31mAttributeError\u001b[0m                            Traceback (most recent call last)",
      "\u001b[1;32m<ipython-input-3-034a9810e935>\u001b[0m in \u001b[0;36m<module>\u001b[1;34m\u001b[0m\n\u001b[0;32m      8\u001b[0m \u001b[0mprint\u001b[0m\u001b[1;33m(\u001b[0m\u001b[1;34mf\"x.field1 = {x.field1}\"\u001b[0m\u001b[1;33m)\u001b[0m\u001b[1;33m\u001b[0m\u001b[1;33m\u001b[0m\u001b[0m\n\u001b[0;32m      9\u001b[0m \u001b[0mprint\u001b[0m\u001b[1;33m(\u001b[0m\u001b[1;34mf\"y.field1 = {y.field1}\"\u001b[0m\u001b[1;33m)\u001b[0m\u001b[1;33m\u001b[0m\u001b[1;33m\u001b[0m\u001b[0m\n\u001b[1;32m---> 10\u001b[1;33m \u001b[0mx\u001b[0m\u001b[1;33m.\u001b[0m\u001b[0mfield2\u001b[0m \u001b[1;33m=\u001b[0m \u001b[1;36m4\u001b[0m\u001b[1;33m\u001b[0m\u001b[1;33m\u001b[0m\u001b[0m\n\u001b[0m\u001b[0;32m     11\u001b[0m \u001b[0mprint\u001b[0m\u001b[1;33m(\u001b[0m\u001b[1;34mf\"x.field2 = {x.field2}\"\u001b[0m\u001b[1;33m)\u001b[0m\u001b[1;33m\u001b[0m\u001b[1;33m\u001b[0m\u001b[0m\n\u001b[0;32m     12\u001b[0m \u001b[0mprint\u001b[0m\u001b[1;33m(\u001b[0m\u001b[1;34mf\"y.field2 = {y.field2}\"\u001b[0m\u001b[1;33m)\u001b[0m\u001b[1;33m\u001b[0m\u001b[1;33m\u001b[0m\u001b[0m\n",
      "\u001b[1;31mAttributeError\u001b[0m: 'Foo' object has no attribute 'field2'"
     ]
    }
   ],
   "source": [
    "class Foo:\n",
    "    __slots__ = ['field1']\n",
    "    def __init__(self,a):\n",
    "        self.field1 = a\n",
    "\n",
    "x = Foo(2)\n",
    "y = Foo(3)\n",
    "print(f\"x.field1 = {x.field1}\")\n",
    "print(f\"y.field1 = {y.field1}\")\n",
    "x.field2 = 4\n",
    "print(f\"x.field2 = {x.field2}\")\n",
    "print(f\"y.field2 = {y.field2}\")\n",
    "    "
   ]
  },
  {
   "cell_type": "markdown",
   "metadata": {},
   "source": [
    "* Please explain, why program is crashed again with *'Foo' object has no attribute 'field2'*. Compare string numbers in first and second samples"
   ]
  },
  {
   "cell_type": "markdown",
   "metadata": {},
   "source": [
    "## Static field and method\n",
    "\n",
    "### Static Variable sample"
   ]
  },
  {
   "cell_type": "code",
   "execution_count": 6,
   "metadata": {},
   "outputs": [
    {
     "name": "stdout",
     "output_type": "stream",
     "text": [
      "5\n",
      "Access through an instance\n",
      "5\n",
      "Change within an instance\n",
      "6\n",
      "5\n",
      "Change through\n",
      "6\n",
      "7\n"
     ]
    }
   ],
   "source": [
    "class Example:\n",
    "    staticVariable = 5\n",
    "\n",
    "print(Example.staticVariable)\n",
    "\n",
    "print(\"Access through an instance\")\n",
    "instance = Example()\n",
    "print(instance.staticVariable)\n",
    "\n",
    "print(\"Change within an instance\")\n",
    "instance.staticVariable = 6\n",
    "print(instance.staticVariable)\n",
    "print(Example.staticVariable)\n",
    "\n",
    "print(\"Change through\")\n",
    "Example.staticVariable = 7\n",
    "print(instance.staticVariable)\n",
    "print(Example.staticVariable)"
   ]
  },
  {
   "cell_type": "markdown",
   "metadata": {},
   "source": [
    "* Please explain this sample. Use **dir(instance)** and **dir(Example)** command "
   ]
  },
  {
   "cell_type": "markdown",
   "metadata": {},
   "source": [
    "### @staticmethod sample"
   ]
  },
  {
   "cell_type": "code",
   "execution_count": 13,
   "metadata": {},
   "outputs": [
    {
     "name": "stdout",
     "output_type": "stream",
     "text": [
      "static() called Example\n",
      "static() called Example\n",
      "static() called Offspring2\n"
     ]
    }
   ],
   "source": [
    "class Example:\n",
    "    name = \"Example\"\n",
    "\n",
    "    @staticmethod\n",
    "    def static():\n",
    "        print(f\"static() called {Example.name}\")\n",
    "\n",
    "class Offspring1(Example):\n",
    "    name = \"Offspring1\"\n",
    "\n",
    "class Offspring2(Example):\n",
    "    name = \"Offspring2\"\n",
    "\n",
    "    @staticmethod\n",
    "    def static():\n",
    "        print (f\"static() called {Offspring2.name}\")\n",
    "\n",
    "Example.static()\n",
    "Offspring1.static() \n",
    "Offspring2.static() "
   ]
  },
  {
   "cell_type": "markdown",
   "metadata": {},
   "source": [
    "### @classmethod sample"
   ]
  },
  {
   "cell_type": "code",
   "execution_count": 15,
   "metadata": {},
   "outputs": [
    {
     "name": "stdout",
     "output_type": "stream",
     "text": [
      "static() called Example\n",
      "static() called Offspring1\n",
      "static() called Offspring2\n"
     ]
    }
   ],
   "source": [
    "class Example:\n",
    "    name = \"Example\"\n",
    "\n",
    "    @classmethod\n",
    "    def static(cls):\n",
    "        print(f\"static() called {cls.name}\")\n",
    "\n",
    "class Offspring1(Example):\n",
    "    name = \"Offspring1\"\n",
    "    pass\n",
    "\n",
    "class Offspring2(Example):\n",
    "    name = \"Offspring2\"\n",
    "\n",
    "    @classmethod\n",
    "    def static(cls):\n",
    "        print(f\"static() called {cls.name}\")\n",
    "\n",
    "Example.static()\n",
    "Offspring1.static() \n",
    "Offspring2.static() "
   ]
  },
  {
   "cell_type": "markdown",
   "metadata": {},
   "source": [
    "### Inheritance with static sample"
   ]
  },
  {
   "cell_type": "code",
   "execution_count": 17,
   "metadata": {},
   "outputs": [
    {
     "name": "stdout",
     "output_type": "stream",
     "text": [
      "5\n",
      "4\n",
      "6\n"
     ]
    }
   ],
   "source": [
    "class Base:\n",
    "    staticVariable = 5\n",
    "    def __init__(self,a):\n",
    "        self.field = a\n",
    "class Derived(Base):\n",
    "    def __init__(self,a):\n",
    "        super().__init__(a)\n",
    "        self.derivedField = a + 2\n",
    "x = Derived(4)\n",
    "print(x.staticVariable)\n",
    "print(x.field)\n",
    "print(x.derivedField)"
   ]
  },
  {
   "cell_type": "code",
   "execution_count": null,
   "metadata": {},
   "outputs": [],
   "source": []
  }
 ],
 "metadata": {
  "kernelspec": {
   "display_name": "Python 3",
   "language": "python",
   "name": "python3"
  },
  "language_info": {
   "codemirror_mode": {
    "name": "ipython",
    "version": 3
   },
   "file_extension": ".py",
   "mimetype": "text/x-python",
   "name": "python",
   "nbconvert_exporter": "python",
   "pygments_lexer": "ipython3",
   "version": "3.7.3"
  }
 },
 "nbformat": 4,
 "nbformat_minor": 2
}
